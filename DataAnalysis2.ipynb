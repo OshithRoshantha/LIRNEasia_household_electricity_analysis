{
 "cells": [
  {
   "cell_type": "code",
   "execution_count": null,
   "metadata": {
    "vscode": {
     "languageId": "plaintext"
    }
   },
   "outputs": [],
   "source": [
    "import pandas as pd\n",
    "import os\n",
    "\n",
    "csv_dir = r\"C:\\Users\\OSHITH\\OneDrive - University of Kelaniya\\Desktop\\lirneasia\\EC_2\\smart_data\"\n",
    "csv_files = [os.path.join(csv_dir, f\"file{num}.csv\") for num in range(5, 101, 5)]\n",
    "output_file = os.path.join(csv_dir, \"combinedSmartData.csv\")\n",
    "\n",
    "combined_df = pd.DataFrame()\n",
    "\n",
    "for file in csv_files:\n",
    "    try:\n",
    "        print(f\"Processing file: {file}\")\n",
    "        df = pd.read_csv(file)\n",
    "        combined_df = pd.concat([combined_df, df], ignore_index=True)\n",
    "    except FileNotFoundError:\n",
    "        print(f\"File not found: {file}. Skipping...\")\n",
    "    except Exception as e:\n",
    "        print(f\"Error processing {file}: {e}\")\n",
    "        \n",
    "missing_values = combined_df.isnull().sum()\n",
    "print(missing_values)\n",
    "\n",
    "dfCleaned = combined_df.dropna()"
   ]
  },
  {
   "cell_type": "code",
   "execution_count": null,
   "metadata": {
    "vscode": {
     "languageId": "plaintext"
    }
   },
   "outputs": [],
   "source": [
    "df = dfCleaned\n",
    "\n",
    "df['DATE'] = pd.to_datetime(df['DATE'])\n",
    "df['YearMonth'] = df['DATE'].dt.to_period('M')\n",
    "\n",
    "dfMonthly = df.groupby(['household_ID', 'YearMonth']).agg({\n",
    "    'TOTAL_IMPORT (kWh)': 'max',\n",
    "    'TOTAL_EXPORT (kWh)': 'max',\n",
    "    'TOTAL_IMPORT - PV1 (kWh)': 'max',\n",
    "    'TOTAL_EXPORT - PV1 (kWh)': 'max',\n",
    "    'TR1_TOTAL_IMPORT (kWh)': 'max',\n",
    "    'TR2_TOTAL_IMPORT (kWh)': 'max',\n",
    "    'TR3_TOTAL_IMPORT (kWh)': 'max',\n",
    "    'TR1_TOTAL_EXPORT (kWh)': 'max',\n",
    "    'TR2_TOTAL_EXPORT (kWh)': 'max',\n",
    "    'TR3_TOTAL_EXPORT (kWh)': 'max',\n",
    "    'PHASE_A_CURRENT (A)': 'mean',\n",
    "    'PHASE_A_VOLTAGE (V)': 'mean',\n",
    "    'FREQUENCY (Hz)': 'mean',\n",
    "}).reset_index()\n",
    "\n",
    "cumulative_columns = [\n",
    "    'TOTAL_IMPORT (kWh)', 'TOTAL_EXPORT (kWh)', 'TOTAL_IMPORT - PV1 (kWh)',\n",
    "    'TOTAL_EXPORT - PV1 (kWh)', 'TR1_TOTAL_IMPORT (kWh)', 'TR2_TOTAL_IMPORT (kWh)',\n",
    "    'TR3_TOTAL_IMPORT (kWh)', 'TR1_TOTAL_EXPORT (kWh)', 'TR2_TOTAL_EXPORT (kWh)', 'TR3_TOTAL_EXPORT (kWh)'\n",
    "]\n",
    "for col in cumulative_columns:\n",
    "    dfMonthly[col + '_exact'] = dfMonthly.groupby('household_ID')[col].diff().fillna(dfMonthly[col])\n",
    "\n",
    "dfMonthly = dfMonthly.drop(columns=cumulative_columns)\n",
    "print(dfMonthly.head())"
   ]
  },
  {
   "cell_type": "code",
   "execution_count": null,
   "metadata": {
    "vscode": {
     "languageId": "plaintext"
    }
   },
   "outputs": [],
   "source": [
    "df = dfCleaned\n",
    "householdInfo = pd.read_csv(r\"C:\\Users\\OSHITH\\OneDrive - University of Kelaniya\\Desktop\\lirneasia\\EC_1\\w1_household_information_and_history.csv\")\n",
    "\n",
    "df['DATE'] = pd.to_datetime(df['DATE'])\n",
    "df['YearMonth'] = df['DATE'].dt.to_period('M')\n",
    "\n",
    "dfMonthly = df.groupby(['household_ID', 'YearMonth']).agg({\n",
    "    'TOTAL_IMPORT (kWh)': 'max'\n",
    "}).reset_index()\n",
    "\n",
    "dfMonthly['TOTAL_IMPORT (kWh)'] = dfMonthly.groupby('household_ID')['TOTAL_IMPORT (kWh)'].diff().fillna(dfMonthly['TOTAL_IMPORT (kWh)'])\n",
    "\n",
    "dfAvgImport = dfMonthly.groupby('household_ID')['TOTAL_IMPORT (kWh)'].mean().reset_index()\n",
    "\n",
    "dfCombined = pd.merge(dfAvgImport, householdInfo, on='household_ID', how='inner')\n",
    "\n",
    "dfCombined.to_csv(r\"C:\\Users\\OSHITH\\OneDrive - University of Kelaniya\\Desktop\\lirneasia\\houseConsumption.csv\", index=False)"
   ]
  },
  {
   "cell_type": "code",
   "execution_count": null,
   "metadata": {
    "vscode": {
     "languageId": "plaintext"
    }
   },
   "outputs": [],
   "source": [
    "import pandas as pd\n",
    "import matplotlib.pyplot as plt\n",
    "\n",
    "df = pd.read_csv(r\"C:\\Users\\OSHITH\\OneDrive - University of Kelaniya\\Desktop\\lirneasia\\monthlySmartData.csv\")\n",
    "\n",
    "df['YearMonth'] = pd.to_datetime(df['YearMonth'], format='%Y-%m')\n",
    "\n",
    "monthlySummary = df.groupby('YearMonth')[['TOTAL_IMPORT (kWh)_exact', 'TOTAL_EXPORT (kWh)_exact']].sum()\n",
    "\n",
    "plt.figure(figsize=(10, 6))\n",
    "plt.plot(monthlySummary.index, monthlySummary['TOTAL_IMPORT (kWh)_exact'], label='Total Import (kWh)', color='#FF8000', marker='o')\n",
    "plt.plot(monthlySummary.index, monthlySummary['TOTAL_EXPORT (kWh)_exact'], label='Total Export (kWh)', color='#4C1F7A', marker='o')\n",
    "\n",
    "plt.title('Total Import and Export (kWh) Over Time (Smart-Meter)', fontsize=14)\n",
    "plt.xlabel('Month', fontsize=12)\n",
    "plt.ylabel('Energy (kWh)', fontsize=12)\n",
    "plt.xticks(rotation=45)\n",
    "plt.legend()\n",
    "\n",
    "plt.tight_layout()\n",
    "plt.show()"
   ]
  },
  {
   "cell_type": "code",
   "execution_count": null,
   "metadata": {
    "vscode": {
     "languageId": "plaintext"
    }
   },
   "outputs": [],
   "source": [
    "import pandas as pd\n",
    "import seaborn as sns\n",
    "import matplotlib.pyplot as plt\n",
    "\n",
    "df = pd.read_csv(r\"C:\\Users\\OSHITH\\OneDrive - University of Kelaniya\\Desktop\\lirneasia\\monthlySmartData.csv\")\n",
    "df['YearMonth'] = pd.to_datetime(df['YearMonth'], format='%Y-%m')\n",
    "\n",
    "df = df.rename(columns={\n",
    "    'TR1_TOTAL_IMPORT (kWh)_exact': 'Day Time Energy (kWh)',\n",
    "    'TR2_TOTAL_IMPORT (kWh)_exact': 'Peak Time Energy (kWh)',\n",
    "    'TR3_TOTAL_IMPORT (kWh)_exact': 'Off-Peak Time Energy (kWh)'\n",
    "})\n",
    "\n",
    "columnsToPlot = ['Day Time Energy (kWh)', 'Peak Time Energy (kWh)', 'Off-Peak Time Energy (kWh)']\n",
    "monthlySummary = df.groupby('YearMonth')[columnsToPlot].sum()\n",
    "\n",
    "customColors = ['#FF8000', '#4C1F7A', '#219B9D']\n",
    "\n",
    "ax = monthlySummary.plot(kind='area', stacked=True, figsize=(10, 6), color=customColors)\n",
    "plt.title('Cumulative Energy Consumption per Transformer Over Time (Smart-Meter)')\n",
    "plt.xlabel('Month')\n",
    "plt.ylabel('Energy (kWh)')\n",
    "plt.xticks(rotation=45)\n",
    "plt.tight_layout()\n",
    "\n",
    "ax.legend(title='Time Periods')\n",
    "\n",
    "plt.show()\n"
   ]
  },
  {
   "cell_type": "code",
   "execution_count": null,
   "metadata": {
    "vscode": {
     "languageId": "plaintext"
    }
   },
   "outputs": [],
   "source": [
    "import pandas as pd\n",
    "import numpy as np\n",
    "from sklearn.cluster import KMeans\n",
    "from sklearn.preprocessing import StandardScaler\n",
    "import matplotlib.pyplot as plt\n",
    "import seaborn as sns\n",
    "from sklearn.metrics import silhouette_score\n",
    "from sklearn.impute import SimpleImputer\n",
    "\n",
    "df = pd.read_csv(r\"C:\\Users\\OSHITH\\OneDrive - University of Kelaniya\\Desktop\\lirneasia\\houseConsumption.csv\")\n",
    "\n",
    "numeric_cols = df.select_dtypes(include=[np.number]).columns\n",
    "df_numeric = df[numeric_cols]\n",
    "\n",
    "imputer = SimpleImputer(strategy='mean')\n",
    "df_imputed = pd.DataFrame(imputer.fit_transform(df_numeric), columns=numeric_cols)\n",
    "\n",
    "df[numeric_cols] = df_imputed\n",
    "\n",
    "features = df[['TOTAL_IMPORT (kWh)', 'floor_area', 'total_monthly_expenditure_of_last_month', 'no_of_household_members']]\n",
    "\n",
    "scaler = StandardScaler()\n",
    "scaled_features = scaler.fit_transform(features)\n",
    "\n",
    "wcss = []\n",
    "for i in range(1, 11):\n",
    "    kmeans = KMeans(n_clusters=i, init='k-means++', max_iter=300, n_init=10, random_state=42)\n",
    "    kmeans.fit(scaled_features)\n",
    "    wcss.append(kmeans.inertia_)\n",
    "\n",
    "plt.plot(range(1, 11), wcss)\n",
    "plt.title('Elbow Method For Optimal K')\n",
    "plt.xlabel('Number of Clusters')\n",
    "plt.ylabel('WCSS')\n",
    "plt.show()\n",
    "\n",
    "kmeans = KMeans(n_clusters=3, init='k-means++', max_iter=300, n_init=10, random_state=42)\n",
    "y_kmeans = kmeans.fit_predict(scaled_features)\n",
    "\n",
    "df['Cluster'] = y_kmeans\n",
    "\n",
    "sns.scatterplot(x=df['TOTAL_IMPORT (kWh)'], y=df['total_monthly_expenditure_of_last_month'], hue=df['Cluster'], palette='Set1')\n",
    "\n",
    "plt.title('K-means Clustering')\n",
    "plt.xlabel('TOTAL_IMPORT (kWh)')\n",
    "plt.ylabel('Total Monthly Expenditure of Last Month')\n",
    "plt.show()\n",
    "\n",
    "centroids = pd.DataFrame(kmeans.cluster_centers_, columns=['TOTAL_IMPORT (kWh)', 'floor_area', 'total_monthly_expenditure_of_last_month', 'no_of_household_members'])\n",
    "print(\"Centroids of clusters:\\n\", centroids)\n",
    "\n",
    "print(\"Cluster distribution:\\n\", df['Cluster'].value_counts())\n",
    "\n",
    "sil_score = silhouette_score(scaled_features, y_kmeans)\n",
    "print(f\"Silhouette Score: {sil_score}\")\n"
   ]
  }
 ],
 "metadata": {
  "language_info": {
   "name": "python"
  }
 },
 "nbformat": 4,
 "nbformat_minor": 2
}
